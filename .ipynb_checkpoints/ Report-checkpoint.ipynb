{
 "cells": [
  {
   "cell_type": "code",
   "execution_count": null,
   "metadata": {
    "collapsed": true
   },
   "outputs": [],
   "source": [
    "import stackoverflow\n",
    "\n",
    "# gets the username or returns \"Unkonwn\" if the user is None\n",
    "def getUserName(user):\n",
    "    if user:\n",
    "        return user.name\n",
    "    else:\n",
    "        return 'Unknown'\n",
    "\n",
    "if stackoverflow.hasCachedFile():\n",
    "    so = stackoverflow.readFromCache()  # This reads a pre-buit object\n",
    "else:\n",
    "    so = stackoverflow.readAll(True)\n",
    "    stackoverflow.writeToCache(so)  # Write it to the cache for the future\n",
    "\n",
    "print(so.questions[100].url) "
   ]
  },
  {
   "cell_type": "code",
   "execution_count": null,
   "metadata": {
    "collapsed": true
   },
   "outputs": [],
   "source": []
  },
  {
   "cell_type": "code",
   "execution_count": null,
   "metadata": {
    "collapsed": true
   },
   "outputs": [],
   "source": [
    "def getUserName(user):\n",
    "    if user:\n",
    "        return user.name\n",
    "    else:\n",
    "        return 'Unknown'\n",
    "\n",
    "    \n",
    "def getUserHistory():\n",
    "    userhistory={}\n",
    "    for q in so.questions:\n",
    "        name=getUserName(q.user)\n",
    "        if name in userhistory:\n",
    "            userhistory[name][0]+=1\n",
    "        else:\n",
    "            userhistory[name]=[]\n",
    "            userhistory[name].append(1)\n",
    "        for a in q.answers:\n",
    "            name_ans=getUserName(a.user)\n",
    "            if name_ans in userhistory:\n",
    "                if len(userhistory[name_ans])>1:\n",
    "                    userhistory[name_ans][1]+=1\n",
    "                else:\n",
    "                    userhistory[name_ans].append(1)\n",
    "            else:\n",
    "                userhistory[name_ans]=[]\n",
    "                userhistory[name_ans].append(0)\n",
    "                userhistory[name_ans].append(1)\n",
    "        for c in q.comments:\n",
    "            name_com=getUserName(c.user)\n",
    "            if name_com in userhistory:\n",
    "                if len(userhistory[name_com])==3:\n",
    "                    userhistory[name_com][2]+=1\n",
    "                elif len(userhistory[name_com])==2:\n",
    "                    userhistory[name_com].append(1)\n",
    "                else:\n",
    "                    userhistory[name_com].append(0)\n",
    "                    userhistory[name_com].append(1)\n",
    "            else:\n",
    "                userhistory[name_com]=[]\n",
    "                userhistory[name_com].append(0)\n",
    "                userhistory[name_com].append(0)\n",
    "                userhistory[name_com].append(1)    \n",
    "    return(userhistory)\n",
    "A=getUserHistory()"
   ]
  },
  {
   "cell_type": "code",
   "execution_count": null,
   "metadata": {
    "collapsed": true
   },
   "outputs": [],
   "source": [
    "#1. Create random samples with equal amount of accepted and unaccepted answers for a given question. \n",
    "# ? for the same question? value about the question matters or not?\n",
    "\n",
    "import random\n",
    "\n",
    "\n",
    "def getAnswerSample(n):\n",
    "    maxnum=len(so.questions)\n",
    "    accepted=[]\n",
    "    unaccepted=[]\n",
    "    while (len(accepted)<n):\n",
    "        r1=random.randint(0,maxnum-1)\n",
    "        q1=so.questions[r1]\n",
    "        if (q1.acceptedAnswer!=None):\n",
    "            if (q1.acceptedAnswer not in accepted):\n",
    "                accepted.append(q1.acceptedAnswer)\n",
    "    while (len(unaccepted)<n):\n",
    "        r2=random.randint(0,maxnum-1)\n",
    "        q2=so.questions[r2]\n",
    "        maxans=len(q2.answers)\n",
    "        if maxans>0:\n",
    "            r3=random.randint(0,maxans-1)\n",
    "            if (q2.answers[r3].isAccepted ==False) and (q2.answers[r3] not in unaccepted):\n",
    "                unaccepted.append(q2.answers[r3])\n",
    "    return accepted+unaccepted\n",
    "            \n",
    "\n",
    "#  score numComments text a.question.answers ?lenth of the other texts?\n",
    "s1=getAnswerSample(100)"
   ]
  },
  {
   "cell_type": "code",
   "execution_count": null,
   "metadata": {
    "collapsed": true
   },
   "outputs": [],
   "source": [
    "m=len(s1)\n",
    "import math\n",
    "from sklearn import tree\n",
    "from sklearn import cross_validation\n",
    "   \n",
    "def make_features1(ans):\n",
    "    return [math.log(len(ans.text)), int(ans.score), ans.numComments]\n",
    "\n",
    "\n",
    "X = [ make_features1(a) for a in s1 ]\n",
    "Y = [ 1 ] * (m/2) + [0] * (m/2)\n",
    "\n",
    "from sklearn import svm, cross_validation\n",
    "\n",
    "model = tree.DecisionTreeClassifier(max_depth=5)\n",
    "result = cross_validation.cross_val_score(model, X, Y, cv=4,scoring='accuracy')\n",
    "print result \n",
    "\n",
    "from IPython.display import Image \n",
    "from sklearn.externals.six import StringIO\n",
    "import pydot\n",
    "\n",
    "clf = tree.DecisionTreeClassifier(max_depth=3)\n",
    "clf.fit(X, Y)\n",
    "dot_data = StringIO()  \n",
    "tree.export_graphviz(clf, out_file=dot_data,  \n",
    "                         feature_names=['log-length', 'score', 'numComments'])  \n",
    "graph = pydot.graph_from_dot_data(dot_data.getvalue())  \n",
    "Image(graph.create_png()) "
   ]
  }
 ],
 "metadata": {
  "kernelspec": {
   "display_name": "Python 2",
   "language": "python",
   "name": "python2"
  },
  "language_info": {
   "codemirror_mode": {
    "name": "ipython",
    "version": 2
   },
   "file_extension": ".py",
   "mimetype": "text/x-python",
   "name": "python",
   "nbconvert_exporter": "python",
   "pygments_lexer": "ipython2",
   "version": "2.7.10"
  }
 },
 "nbformat": 4,
 "nbformat_minor": 0
}
